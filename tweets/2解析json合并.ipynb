{
 "cells": [
  {
   "cell_type": "code",
   "execution_count": 1,
   "metadata": {
    "scrolled": true
   },
   "outputs": [],
   "source": [
    "import os\n",
    "import re\n",
    "import json\n",
    "import gzip\n",
    "\n",
    "def unzip_file(dirname):\n",
    "    \"\"\"\n",
    "    将多个文件整合并存到3个文件中\n",
    "    dirname: 原数据目录\n",
    "    文件内容格式:  类别\\t内容\n",
    "    \"\"\"\n",
    "    #f_test = open('E:/百度/cnews.test.txt', 'w', encoding='utf-8')\n",
    "    #f_val = open('E:/百度/cnews.val.txt', 'w', encoding='utf-8')\n",
    "    for category in os.listdir(dirname):   # 分类目录\n",
    "        cat_dir = os.path.join(dirname, category)\n",
    "        if not os.path.isdir(cat_dir):\n",
    "            continue\n",
    "        files = os.listdir(cat_dir)\n",
    "        for cur_file in files:\n",
    "            if \".gz\" in cur_file:\n",
    "                g = gzip.GzipFile(mode=\"rb\", fileobj=open(cat_dir+\"\\\\\"+cur_file, 'rb'))\n",
    "                file = cur_file\n",
    "                open(cat_dir+\"\\\\\"+file.replace(\".gz\",\"\"), \"wb\").write(g.read())\n",
    "                g.close()\n",
    "            else:\n",
    "                os.remove(cat_dir+'\\\\'+cur_file)    \n",
    "                \n",
    "def remove_file(dirname):\n",
    "    \n",
    "    for category in os.listdir(dirname):   # 分类目录\n",
    "        cat_dir = os.path.join(dirname, category)\n",
    "        if not os.path.isdir(cat_dir):\n",
    "            continue\n",
    "        files = os.listdir(cat_dir)\n",
    "        count = 0\n",
    "        for cur_file in files:\n",
    "            if \".gz\" in cur_file:\n",
    "                os.remove(cat_dir+'\\\\'+cur_file)                     \n",
    "\n",
    "\n",
    "def save_file(dirname):\n",
    "    \"\"\"\n",
    "    将多个文件整合并存到3个文件中\n",
    "    dirname: 原数据目录\n",
    "    文件内容格式:  类别\\t内容\n",
    "    \"\"\"\n",
    "    f_train = open(dirname+'/'+str(name)+'.txt', 'w', encoding='utf-8')\n",
    "    for category in os.listdir(dirname):   # 分类目录\n",
    "        cat_dir = os.path.join(dirname, category)\n",
    "        if not os.path.isdir(cat_dir):\n",
    "            continue\n",
    "        files = os.listdir(cat_dir)\n",
    "        count = 0         \n",
    "        for file in files:\n",
    "            filename = os.path.join(cat_dir, file)             \n",
    "            with open(filename, 'r', encoding='utf-8') as f:\n",
    "                for line in f:\n",
    "                    d = json.loads(line)\n",
    "                    created_at = d['created_at']\n",
    "                    full_text = d['full_text']\n",
    "                    a = re.sub(re.escape(\"_id.jsonl\") + '$', '', file)  # 删后缀\n",
    "                    created_by = str(a)\n",
    "                    b = re.sub(re.escape(\"_news_tweet_id\") + '$', '', category)  # 删后缀\n",
    "                    loc = str(b)\n",
    "                    f_train.write(created_at + '\\t'+full_text+'\\t'+loc+'\\t'+created_by+ '\\n')\n",
    "            count += 1\n",
    "\n",
    "        print('Finished:', category)\n",
    "\n",
    "    f_train.close()\n"
   ]
  },
  {
   "cell_type": "code",
   "execution_count": 2,
   "metadata": {},
   "outputs": [
    {
     "name": "stdout",
     "output_type": "stream",
     "text": [
      "Finished: CHINA\n",
      "Finished: FRANCE\n",
      "Finished: GERMANY\n",
      "Finished: SPAIN\n",
      "Finished: UK\n",
      "Finished: US\n"
     ]
    }
   ],
   "source": [
    "name = 'V1.00_update_2020_04_01'\n",
    "dirname = 'D:/安装包/1tweet/'+name\n",
    "#unzip_file(dirname)   \n",
    "#remove_file(dirname)\n",
    "save_file(dirname)"
   ]
  },
  {
   "cell_type": "code",
   "execution_count": 10,
   "metadata": {},
   "outputs": [
    {
     "name": "stdout",
     "output_type": "stream",
     "text": [
      "                             date  \\\n",
      "0  Tue Sep 10 21:00:34 +0000 2019   \n",
      "1  Tue Sep 10 22:00:30 +0000 2019   \n",
      "2  Tue Sep 10 23:00:00 +0000 2019   \n",
      "3  Wed Sep 11 00:00:00 +0000 2019   \n",
      "4  Wed Sep 11 01:00:00 +0000 2019   \n",
      "\n",
      "                                                text    loc  author  \n",
      "0  After the results of the 2019 Miss Hong Kong P...  CHINA  CCTV\\r  \n",
      "1                      @NiallOfficial AAAAAAAAAAAAAA  CHINA  CCTV\\r  \n",
      "2  Search and rescue dogs form a vital part of a ...  CHINA  CCTV\\r  \n",
      "3  A senior citizen escaped unhurt after she was ...  CHINA  CCTV\\r  \n",
      "4  A spectacular aurora australis light show brig...    NaN     NaN  \n"
     ]
    }
   ],
   "source": [
    "import pandas as pd\n",
    "tweet=pd.read_csv('D:/安装包/1tweet/V1.00_update_2020_04_01/V1.00_update_2020_04_01.txt',sep='\\t',names=['date','text','loc','author'],lineterminator=\"\\n\")\n",
    "print(tweet.head())"
   ]
  },
  {
   "cell_type": "code",
   "execution_count": 8,
   "metadata": {},
   "outputs": [],
   "source": [
    "def _read_file(filename):\n",
    "    \"\"\"读取一个文件并转换为一行\"\"\"\n",
    "    with open(filename, 'r', encoding='utf-8') as f:\n",
    "        #lines = f.readlines()\n",
    "        #first_line = lines[0]\n",
    "        #return first_line\n",
    "        return f.read()"
   ]
  },
  {
   "cell_type": "code",
   "execution_count": 9,
   "metadata": {},
   "outputs": [],
   "source": [
    "def final_file(dirname):\n",
    "    \"\"\"\n",
    "    将多个文件整合并存到1个文件中\n",
    "    dirname: 原数据目录\n",
    "    文件内容格式:  类别\\t内容\n",
    "    \"\"\"\n",
    "    f_train = open('D:/安装包/1tweet/1tweet.txt', 'w', encoding='utf-8')\n",
    "    for category in os.listdir(dirname):   # 分类目录\n",
    "        #categoryid = read_category(category)\n",
    "        cat_dir = os.path.join(dirname, category)\n",
    "        if not os.path.isdir(cat_dir):\n",
    "            continue\n",
    "        files = os.listdir(cat_dir)\n",
    "        count = 0\n",
    "        for cur_file in files:\n",
    "            if \".txt\" in cur_file:\n",
    "                filename = os.path.join(cat_dir, cur_file)\n",
    "                content = _read_file(filename)\n",
    "                f_train.write(content + '\\n')\n",
    "            else:\n",
    "                pass\n",
    "            count += 1\n",
    "\n",
    "        print('Finished:', category)\n",
    "\n",
    "    f_train.close()"
   ]
  },
  {
   "cell_type": "code",
   "execution_count": 10,
   "metadata": {},
   "outputs": [
    {
     "name": "stdout",
     "output_type": "stream",
     "text": [
      "Finished: V1.00_update_2020_04_01\n",
      "Finished: V1.01_update_0402_0408\n",
      "Finished: V1.02_update_0409_0415\n",
      "Finished: V1.03_update_0416_0422\n",
      "Finished: V1.04_update_0423_0429\n",
      "Finished: V1.05_update_0430_0506\n",
      "Finished: V1.06_update_0507_0513\n",
      "Finished: V1.07_update_0514_0520\n",
      "Finished: V1.08_update_0521_0527\n",
      "Finished: V1.09_update_0528_0603\n",
      "Finished: V1.10_update_0604_0610\n",
      "Finished: V1.11_update_0611_0617\n",
      "Finished: V1.12_update_0618_0624\n",
      "Finished: V1.13_update_0625_0701\n",
      "Finished: V1.14_update_0702_0708\n",
      "Finished: V1.15_update_0709_0715\n",
      "Finished: V1.16_update_0716_0722\n",
      "Finished: V1.17_update_0723_0729\n",
      "Finished: V1.18_update_0730_0805\n",
      "Finished: V1.19_update_0806_0812\n",
      "Finished: V1.20_update_0813_0819\n",
      "Finished: V1.21_update_0820_0826\n",
      "Finished: V1.22_update_0827_0902\n",
      "Finished: V1.23_update_0903_0909\n",
      "Finished: V1.24_update_0910_0916\n",
      "Finished: V1.25_update_0917_0923\n",
      "Finished: V1.26_update_0924_0930\n",
      "Finished: V1.27_update_1001_1007\n",
      "Finished: V1.28_update_1008_1014\n",
      "Finished: V1.29_update_1015_1021\n",
      "Finished: V1.30_update_1022_1028\n",
      "Finished: V1.31_update_1029_1104\n",
      "Finished: V1.32_update_1105_1111\n",
      "Finished: V1.33_update_1112_1118\n",
      "Finished: V1.34_update_1119_1125\n",
      "Finished: V1.35_update_1126_1202\n",
      "Finished: V1.36_update_1203_1209\n",
      "Finished: V1.37_update_1210_1216\n",
      "Finished: V1.38_update_1217_1223\n",
      "Finished: V1.39_update_1224_1230\n"
     ]
    }
   ],
   "source": [
    "final_file('D:/安装包/1tweet')"
   ]
  },
  {
   "cell_type": "code",
   "execution_count": null,
   "metadata": {},
   "outputs": [],
   "source": []
  }
 ],
 "metadata": {
  "kernelspec": {
   "display_name": "Python 3",
   "language": "python",
   "name": "python3"
  },
  "language_info": {
   "codemirror_mode": {
    "name": "ipython",
    "version": 3
   },
   "file_extension": ".py",
   "mimetype": "text/x-python",
   "name": "python",
   "nbconvert_exporter": "python",
   "pygments_lexer": "ipython3",
   "version": "3.6.4"
  }
 },
 "nbformat": 4,
 "nbformat_minor": 2
}
